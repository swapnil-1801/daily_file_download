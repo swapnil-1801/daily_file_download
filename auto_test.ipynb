{
 "cells": [
  {
   "cell_type": "code",
   "execution_count": 1,
   "id": "d4b1b132-f271-4ed9-b486-339a4ad040ec",
   "metadata": {
    "tags": []
   },
   "outputs": [],
   "source": [
    "from pyspark.sql import SparkSession"
   ]
  },
  {
   "cell_type": "code",
   "execution_count": 3,
   "id": "4e53a5d9-71b5-421e-91d3-4fa53f96c35d",
   "metadata": {
    "tags": []
   },
   "outputs": [],
   "source": [
    "spark=SparkSession.builder.appName(\"auto_test\").getOrCreate()"
   ]
  },
  {
   "cell_type": "code",
   "execution_count": 4,
   "id": "2d6fa4a1-5df3-4a2b-bb86-7597d5944ec1",
   "metadata": {
    "tags": []
   },
   "outputs": [],
   "source": [
    "cust_df = spark.read.csv(\"dataset/customers.csv\", inferSchema = True, header = True)"
   ]
  },
  {
   "cell_type": "code",
   "execution_count": 6,
   "id": "417a772f-38b8-4615-bf8a-43426bd4d7cf",
   "metadata": {
    "tags": []
   },
   "outputs": [],
   "source": [
    "import random"
   ]
  },
  {
   "cell_type": "code",
   "execution_count": 8,
   "id": "f53f0073-5994-4f52-8e67-115e58ab2241",
   "metadata": {
    "tags": []
   },
   "outputs": [],
   "source": [
    "filename = str(int(random.random()*100)) + \"_df.csv\""
   ]
  },
  {
   "cell_type": "code",
   "execution_count": 9,
   "id": "2b3febe8-5206-4a4c-bf57-02ba8e6cb699",
   "metadata": {
    "tags": []
   },
   "outputs": [],
   "source": [
    "cust_df.write.csv('dataset/' + filename)"
   ]
  },
  {
   "cell_type": "code",
   "execution_count": null,
   "id": "18582855-3791-4fd3-8da1-1bff1e75621c",
   "metadata": {},
   "outputs": [],
   "source": []
  }
 ],
 "metadata": {
  "kernelspec": {
   "display_name": "Python 3 (ipykernel)",
   "language": "python",
   "name": "python3"
  },
  "language_info": {
   "codemirror_mode": {
    "name": "ipython",
    "version": 3
   },
   "file_extension": ".py",
   "mimetype": "text/x-python",
   "name": "python",
   "nbconvert_exporter": "python",
   "pygments_lexer": "ipython3",
   "version": "3.10.6"
  }
 },
 "nbformat": 4,
 "nbformat_minor": 5
}
